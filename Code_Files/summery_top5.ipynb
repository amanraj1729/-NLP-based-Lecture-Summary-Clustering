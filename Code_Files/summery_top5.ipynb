{
 "cells": [
  {
   "cell_type": "code",
   "execution_count": 2,
   "id": "66861775-8bfd-49a4-ba83-a93e48af72e7",
   "metadata": {},
   "outputs": [
    {
     "name": "stdout",
     "output_type": "stream",
     "text": [
      "Collecting fpdf\n",
      "  Using cached fpdf-1.7.2.tar.gz (39 kB)\n",
      "  Preparing metadata (setup.py): started\n",
      "  Preparing metadata (setup.py): finished with status 'done'\n",
      "Building wheels for collected packages: fpdf\n",
      "  Building wheel for fpdf (setup.py): started\n",
      "  Building wheel for fpdf (setup.py): finished with status 'done'\n",
      "  Created wheel for fpdf: filename=fpdf-1.7.2-py2.py3-none-any.whl size=40714 sha256=c3e528de129586c61ca0e8947099b9663bd4ed6840d138d6fd24f65807d8bc93\n",
      "  Stored in directory: c:\\users\\rajam\\appdata\\local\\pip\\cache\\wheels\\6e\\62\\11\\dc73d78e40a218ad52e7451f30166e94491be013a7850b5d75\n",
      "Successfully built fpdf\n",
      "Installing collected packages: fpdf\n",
      "Successfully installed fpdf-1.7.2\n",
      "Note: you may need to restart the kernel to use updated packages.\n"
     ]
    }
   ],
   "source": [
    "pip install fpdf\n"
   ]
  },
  {
   "cell_type": "code",
   "execution_count": 3,
   "id": "960a06d4-2ea9-42af-906a-2f32a35f4bea",
   "metadata": {},
   "outputs": [
    {
     "ename": "SyntaxError",
     "evalue": "invalid syntax (3524815633.py, line 1)",
     "output_type": "error",
     "traceback": [
      "\u001b[1;36m  Cell \u001b[1;32mIn[3], line 1\u001b[1;36m\u001b[0m\n\u001b[1;33m    pip uninstall fpdf\u001b[0m\n\u001b[1;37m        ^\u001b[0m\n\u001b[1;31mSyntaxError\u001b[0m\u001b[1;31m:\u001b[0m invalid syntax\n"
     ]
    }
   ],
   "source": [
    "pip uninstall fpdf\n",
    "#pip install fpdf2\n"
   ]
  },
  {
   "cell_type": "code",
   "execution_count": 4,
   "id": "2c3ba7a9-4fc0-45f3-855a-47a19b79decd",
   "metadata": {},
   "outputs": [
    {
     "name": "stdout",
     "output_type": "stream",
     "text": [
      "^C\n",
      "Note: you may need to restart the kernel to use updated packages.\n"
     ]
    }
   ],
   "source": [
    "pip uninstall fpdf"
   ]
  },
  {
   "cell_type": "code",
   "execution_count": 5,
   "id": "482956d9-8921-4967-b33f-bc91d06fe611",
   "metadata": {},
   "outputs": [
    {
     "name": "stdout",
     "output_type": "stream",
     "text": [
      "Collecting fpdf2\n",
      "  Downloading fpdf2-2.8.2-py2.py3-none-any.whl.metadata (67 kB)\n",
      "Requirement already satisfied: defusedxml in c:\\users\\rajam\\appdata\\local\\programs\\python\\python312\\lib\\site-packages (from fpdf2) (0.7.1)\n",
      "Requirement already satisfied: Pillow!=9.2.*,>=6.2.2 in c:\\users\\rajam\\appdata\\local\\programs\\python\\python312\\lib\\site-packages (from fpdf2) (10.4.0)\n",
      "Requirement already satisfied: fonttools>=4.34.0 in c:\\users\\rajam\\appdata\\local\\programs\\python\\python312\\lib\\site-packages (from fpdf2) (4.54.1)\n",
      "Downloading fpdf2-2.8.2-py2.py3-none-any.whl (236 kB)\n",
      "Installing collected packages: fpdf2\n",
      "Successfully installed fpdf2-2.8.2\n",
      "Note: you may need to restart the kernel to use updated packages.\n"
     ]
    }
   ],
   "source": [
    "pip install fpdf2"
   ]
  },
  {
   "cell_type": "code",
   "execution_count": null,
   "id": "e61d81c0-45a6-4ee8-a432-f2c1a5215bcb",
   "metadata": {},
   "outputs": [],
   "source": []
  },
  {
   "cell_type": "code",
   "execution_count": 2,
   "id": "0ab7bf5b-0150-4442-b4dc-144118a9296f",
   "metadata": {},
   "outputs": [
    {
     "name": "stdout",
     "output_type": "stream",
     "text": [
      "✅ Top 5 summaries per cluster saved to: top5_summaries_per_cluster.csv\n"
     ]
    }
   ],
   "source": [
    "import pandas as pd\n",
    "\n",
    "# Load the ranked summaries file\n",
    "df = pd.read_csv(\"ranked_summaries_detailed_and_relevant(in).csv\")\n",
    "\n",
    "# Extract top 5 summaries per cluster\n",
    "top5_df = (\n",
    "    df.sort_values(by=[\"kmeans_cluster\", \"rank_in_cluster\"])\n",
    "      .groupby(\"kmeans_cluster\")\n",
    "      .head(5)\n",
    "      .reset_index(drop=True)\n",
    ")\n",
    "\n",
    "# Save to new CSV\n",
    "output_path = \"top5_summaries_per_cluster.csv\"\n",
    "top5_df.to_csv(output_path, index=False)\n",
    "\n",
    "print(\"✅ Top 5 summaries per cluster saved to:\", output_path)\n"
   ]
  },
  {
   "cell_type": "code",
   "execution_count": 3,
   "id": "62fb9fa6-2da0-4d70-b65b-f921b0b6206b",
   "metadata": {},
   "outputs": [
    {
     "name": "stdout",
     "output_type": "stream",
     "text": [
      "✅ Clean CSV saved to: top5_summaries_per_cluster1.csv\n"
     ]
    }
   ],
   "source": [
    "import pandas as pd\n",
    "\n",
    "# Load the ranked summaries file\n",
    "df = pd.read_csv(\"ranked_summaries_detailed_and_relevant(in).csv\")\n",
    "\n",
    "# Extract top 5 summaries per cluster\n",
    "top5_df = (\n",
    "    df.sort_values(by=[\"kmeans_cluster\", \"rank_in_cluster\"])\n",
    "      .groupby(\"kmeans_cluster\")\n",
    "      .head(5)\n",
    "      .reset_index(drop=True)\n",
    ")\n",
    "\n",
    "# Keep only the needed columns\n",
    "top5_df = top5_df[[\"kmeans_cluster\", \"Session_Summary\", \"rank_in_cluster\"]]\n",
    "\n",
    "# Save to CSV\n",
    "output_path = \"top5_summaries_per_cluster1.csv\"\n",
    "top5_df.to_csv(output_path, index=False)\n",
    "\n",
    "print(\"✅ Clean CSV saved to:\", output_path)\n"
   ]
  },
  {
   "cell_type": "code",
   "execution_count": null,
   "id": "9ba0208c-e4c3-4635-9e7f-6a35ce7c3ed6",
   "metadata": {},
   "outputs": [],
   "source": []
  },
  {
   "cell_type": "code",
   "execution_count": null,
   "id": "7a81d1cb-94a4-40df-b7e7-adb5334a4c65",
   "metadata": {},
   "outputs": [],
   "source": []
  },
  {
   "cell_type": "code",
   "execution_count": null,
   "id": "90bbfc5f-efe9-4e95-8d47-1a5dc03df661",
   "metadata": {},
   "outputs": [],
   "source": []
  }
 ],
 "metadata": {
  "kernelspec": {
   "display_name": "Python 3 (ipykernel)",
   "language": "python",
   "name": "python3"
  },
  "language_info": {
   "codemirror_mode": {
    "name": "ipython",
    "version": 3
   },
   "file_extension": ".py",
   "mimetype": "text/x-python",
   "name": "python",
   "nbconvert_exporter": "python",
   "pygments_lexer": "ipython3",
   "version": "3.12.6"
  }
 },
 "nbformat": 4,
 "nbformat_minor": 5
}
